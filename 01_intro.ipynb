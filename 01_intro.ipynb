{
 "cells": [
  {
   "cell_type": "markdown",
   "id": "30546e7d",
   "metadata": {},
   "source": [
    "# Framework\n",
    "- Frame(틀), Work(작업)\n",
    "    - 작업틀\n",
    "    - 규격화가 되어있음"
   ]
  },
  {
   "cell_type": "markdown",
   "id": "1845ddd5",
   "metadata": {},
   "source": [
    "# Template Code\n",
    "- 프레임워크에 대한 소개\n",
    "- 프레임워크는 아래와 같이, 크롤링의 원리를 몰라도 크롤링을 사용할 수 있게 함수를 만들어놓은 것 과 같다.\n",
    "- 단점은 제공하는 기능 외에는 사용이 불가하다는 것이다."
   ]
  },
  {
   "cell_type": "code",
   "execution_count": 2,
   "id": "0d595a45",
   "metadata": {},
   "outputs": [],
   "source": [
    "import requests as req\n",
    "from bs4 import BeautifulSoup as bs\n",
    "\n",
    "def crawling_template(url, css_selector):\n",
    "    rtn_data = list()\n",
    "    res = req.get(url)\n",
    "    soup = bs(res.content, \"html.parser\")\n",
    "    datasl = soup.select(css_selector)\n",
    "    for item in datas:\n",
    "        rtn_data.append(item.get_text())\n",
    "    return rtn_data"
   ]
  },
  {
   "cell_type": "markdown",
   "id": "109ad393",
   "metadata": {},
   "source": [
    "# Flask\n",
    "- 백엔드 기술을 처음 익히는데 적합\n",
    "- 다양한 파이썬 라이브러리 활용 가능 (확장성 UP!)\n",
    "- DJango, 런닝커브가 높고, 다른 기술과 연결되어 있지 않다."
   ]
  },
  {
   "cell_type": "markdown",
   "id": "829bbb7d",
   "metadata": {},
   "source": [
    "# Front? Back? End!\n",
    "- 백엔드는 다양하게 구성이 가능하고, architecturing을 할 수 있다.\n",
    "    - 즉, 동접자 수나 규모에 따라 변경이 가능하다.\n",
    "- 사용자(User)는 Front 혹은 Back End 서버에 페이지를 요청하게 되는데, 이 때, Front\n",
    "    end는 Back End에게 데이터베이스, 인증 과 같은 요청을 하게 된다.\n",
    "    BackEnd가 할 경우에는 전부 다 혼자 처리한다.\n",
    "    : 과거에는 BackEnd에서 다 처리하는 식으로 했지만, 웹 서비스의 복잡도가 높아짐에 따라,\n",
    "    FrontEnd와 BackEnd의 업무를 나눠서 하는게 보편적이다."
   ]
  }
 ],
 "metadata": {
  "kernelspec": {
   "display_name": "Python 3",
   "language": "python",
   "name": "python3"
  },
  "language_info": {
   "codemirror_mode": {
    "name": "ipython",
    "version": 3
   },
   "file_extension": ".py",
   "mimetype": "text/x-python",
   "name": "python",
   "nbconvert_exporter": "python",
   "pygments_lexer": "ipython3",
   "version": "3.8.8"
  }
 },
 "nbformat": 4,
 "nbformat_minor": 5
}
