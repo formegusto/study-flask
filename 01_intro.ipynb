{
 "cells": [
  {
   "cell_type": "markdown",
   "id": "30546e7d",
   "metadata": {},
   "source": [
    "# Framework\n",
    "- Frame(틀), Work(작업)\n",
    "    - 작업틀\n",
    "    - 규격화가 되어있음"
   ]
  },
  {
   "cell_type": "code",
   "execution_count": null,
   "id": "9e6d1c0c",
   "metadata": {},
   "outputs": [],
   "source": []
  }
 ],
 "metadata": {
  "kernelspec": {
   "display_name": "Python 3",
   "language": "python",
   "name": "python3"
  },
  "language_info": {
   "codemirror_mode": {
    "name": "ipython",
    "version": 3
   },
   "file_extension": ".py",
   "mimetype": "text/x-python",
   "name": "python",
   "nbconvert_exporter": "python",
   "pygments_lexer": "ipython3",
   "version": "3.8.8"
  }
 },
 "nbformat": 4,
 "nbformat_minor": 5
}
