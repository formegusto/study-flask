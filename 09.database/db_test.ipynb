{
 "cells": [
  {
   "cell_type": "code",
   "execution_count": 8,
   "id": "20c60f76",
   "metadata": {},
   "outputs": [
    {
     "name": "stdout",
     "output_type": "stream",
     "text": [
      "1\n"
     ]
    }
   ],
   "source": [
    "import pymysql\n",
    "\n",
    "rdb_conn = pymysql.connect(\n",
    "    host=\"localhost\",\n",
    "    port=3306,\n",
    "    user=\"root\",\n",
    "    passwd=\"root\",\n",
    "    database=\"blog_db\",\n",
    "    charset=\"utf8\"\n",
    ")\n",
    "\n",
    "cur = rdb_conn.cursor()\n",
    "SQL = 'SHOW TABLES;'\n",
    "print(cur.execute(SQL))\n",
    "\n",
    "rdb_conn.close()"
   ]
  },
  {
   "cell_type": "code",
   "execution_count": null,
   "id": "7388ab66",
   "metadata": {},
   "outputs": [],
   "source": []
  }
 ],
 "metadata": {
  "kernelspec": {
   "display_name": "Python 3",
   "language": "python",
   "name": "python3"
  },
  "language_info": {
   "codemirror_mode": {
    "name": "ipython",
    "version": 3
   },
   "file_extension": ".py",
   "mimetype": "text/x-python",
   "name": "python",
   "nbconvert_exporter": "python",
   "pygments_lexer": "ipython3",
   "version": "3.8.8"
  }
 },
 "nbformat": 4,
 "nbformat_minor": 5
}
